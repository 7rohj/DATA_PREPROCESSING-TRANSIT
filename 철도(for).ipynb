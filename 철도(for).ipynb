{
  "nbformat": 4,
  "nbformat_minor": 0,
  "metadata": {
    "colab": {
      "provenance": [],
      "mount_file_id": "1aEltOAndSQZfKQtq7870OFVKuHJuklqL",
      "authorship_tag": "ABX9TyPQVMzaUc9SrG3uJYmAFS9a",
      "include_colab_link": true
    },
    "kernelspec": {
      "name": "python3",
      "display_name": "Python 3"
    },
    "language_info": {
      "name": "python"
    }
  },
  "cells": [
    {
      "cell_type": "markdown",
      "metadata": {
        "id": "view-in-github",
        "colab_type": "text"
      },
      "source": [
        "<a href=\"https://colab.research.google.com/github/7rohj/.-/blob/main/%EC%B2%A0%EB%8F%84(for).ipynb\" target=\"_parent\"><img src=\"https://colab.research.google.com/assets/colab-badge.svg\" alt=\"Open In Colab\"/></a>"
      ]
    },
    {
      "cell_type": "code",
      "source": [
        "from google.colab import drive\n",
        "drive.mount('/content/drive')"
      ],
      "metadata": {
        "colab": {
          "base_uri": "https://localhost:8080/"
        },
        "id": "0RzIcMvwZjmx",
        "outputId": "47080fda-8674-40fa-f5da-0bba784bebe4"
      },
      "execution_count": 3,
      "outputs": [
        {
          "output_type": "stream",
          "name": "stdout",
          "text": [
            "Drive already mounted at /content/drive; to attempt to forcibly remount, call drive.mount(\"/content/drive\", force_remount=True).\n"
          ]
        }
      ]
    },
    {
      "cell_type": "code",
      "execution_count": null,
      "metadata": {
        "colab": {
          "base_uri": "https://localhost:8080/"
        },
        "id": "wzUgC4Z5Ze9y",
        "outputId": "b37a7c59-6db0-40ee-a219-b6bda6321547"
      },
      "outputs": [
        {
          "output_type": "stream",
          "name": "stderr",
          "text": [
            "<ipython-input-4-42e6e85f4992>:52: FutureWarning: The default value of regex will change from True to False in a future version. In addition, single character regular expressions will *not* be treated as literal strings when regex=True.\n",
            "  dataframe['ETC'] = dataframe['ETC'].apply(lambda x: ', '.join(map(str, x))).str.replace('[', '').str.replace(']', '').str.replace(\"'\", '') # 이중리스트 [] 제거..\n"
          ]
        }
      ],
      "source": [
        "import pandas as pd\n",
        "import numpy as np\n",
        "\n",
        "year = [2019,2025,2030]\n",
        "\n",
        "for q in year:\n",
        "  # 구글 드라이브 마운트, 일일이 파일 업로드할 필요 없음\n",
        "  # 마지막 / 이후 파일명 수정하면 됨\n",
        "  train_info2019 = pd.read_table(f'/content/drive/MyDrive/철도/{q}_TRANSIT_INFO.txt', sep='\\t', encoding='euc-kr')\n",
        "  train_path2019 = pd.read_table(f'/content/drive/MyDrive/철도/{q}_TRANSIT_PATH.txt', sep='\\t', encoding='euc-kr')\n",
        "  train_info2019.head(3)\n",
        "\n",
        "  # 도로 = 3, 철도 = 4/ 철도만 추출\n",
        "  train_info2019 = train_info2019[train_info2019['Mode'] == 4]\n",
        "  train_info2019 = train_info2019.reset_index(drop=True)\n",
        "  train_path2019['Station_Y/N'] = train_path2019['Station_Y/N'].replace(1,0.75)\n",
        "  train_path2019['Station_Y/N'] = train_path2019['Station_Y/N'].replace(0,'#.00')\n",
        "  train_info2019.tail(3)\n",
        "\n",
        "  dataframe = pd.DataFrame(None)\n",
        "  blist = []\n",
        "\n",
        "  for i in range(len(train_info2019)):\n",
        "    alist = [] # 한 줄 씩 여러개 리스트 생성해서 blist 에 append\n",
        "    alist.append('a')\n",
        "    alist.append(train_info2019['Line_ID'].tolist()[i])\n",
        "    alist.append('|')\n",
        "    alist.append('2')\n",
        "    alist.append(train_info2019['Peak_Headway'].tolist()[i])\n",
        "    alist.append('0.01')\n",
        "    alist.append(train_info2019['Name'].tolist()[i])\n",
        "    alist.append(' ') # UT1\n",
        "    alist.append(' ') # UT2\n",
        "    alist.append(' ') # UT3\n",
        "    blist.append(alist)\n",
        "\n",
        "  # ~ 여기까지 1단계 완료\n",
        "  # 아래는 보기 편하게 테이블 형식으로 출력\n",
        "\n",
        "  def convert_nested_to_str(lst):\n",
        "      return [[str(x) if isinstance(x, int) else x for x in sublist] for sublist in lst]\n",
        "\n",
        "  converted_list = convert_nested_to_str(blist)\n",
        "  converted_list\n",
        "\n",
        "  dataframe = pd.DataFrame(blist)\n",
        "\n",
        "  # ADD/ LINE/ MODE/ VEH/ HEADWAY/ SPEED/ DESCR/ UT1/ UT2/ UT3\n",
        "  dataframe.rename(columns={0:'ADD', 1:\"LINE\", 2:\"MODE\", 3:\"VEH\", 4:\"HEADWAY\",\n",
        "                            5:\"SPEED\", 6:\"DESCR\", 7:\"UT1\", 8:\"UT2\", 9:\"UT3\"}, inplace=True)\n",
        "  dataframe['ETC'] = converted_list\n",
        "  dataframe['ETC'] = dataframe['ETC'].apply(lambda x: ', '.join(map(str, x))).str.replace('[', '').str.replace(']', '').str.replace(\"'\", '') # 이중리스트 [] 제거..\n",
        "  dataframe['ETC'] = dataframe['ETC'].apply(lambda x: ''.join(map(str, x)).replace(',', '')) # , 를  로 변경\n",
        "  dataframe\n",
        "\n",
        "  #idea.. 이중 리스트 해서 안의 리스트 원소 개수로 계산\n",
        "\n",
        "  seq_nodeid_lst = []\n",
        "  seq_sttyn_lst = []\n",
        "  lineid = []\n",
        "\n",
        "  for i in range(1,161):\n",
        "\n",
        "    num = dataframe['LINE'].tolist()[i-1]\n",
        "    num_str = str(num)\n",
        "\n",
        "    # append X > extend\n",
        "    seq_sttyn_lst.extend(train_path2019[train_path2019['Line_ID'] == num]['Station_Y/N'].tolist())\n",
        "    seq_nodeid_lst.extend(train_path2019[train_path2019['Line_ID'] == num]['Node_id'].tolist())\n",
        "    tmp = [i] * len(train_path2019[train_path2019['Line_ID'] == num]['Station_Y/N'].tolist())\n",
        "    lineid.append(tmp)\n",
        "\n",
        "    #print(i,'번째, ',len(seq_sttyn_lst),len(seq_nodeid_lst))\n",
        "\n",
        "  lineid = [item for sublist in lineid for item in sublist]\n",
        "  new_df = pd.DataFrame({'column0': [f\"dwt={seq_sttyn_lst[i]} {seq_nodeid_lst[i]}\" for i in range(len(seq_sttyn_lst))]})\n",
        "  new_df['LINE_ID'] = lineid\n",
        "  new_df['LINE_ID'] = new_df['LINE_ID'].astype(int)\n",
        "  new_df\n",
        "\n",
        "  final = []\n",
        "\n",
        "  for s in range(len(dataframe)):\n",
        "\n",
        "    #tmp = []\n",
        "\n",
        "    final.append(dataframe['ETC'][s])\n",
        "    final.append('ttf=1')\n",
        "    final.append('path=no')\n",
        "    final.extend(new_df[new_df['LINE_ID'] == s+1]['column0'].reset_index(drop=True).values)\n",
        "\n",
        "    #final.append(tmp)\n",
        "\n",
        "    pd.DataFrame(final).to_excel(f'/content/drive/MyDrive/철도/Transit Data(Line_Input)_{q}_완료.xlsx')"
      ]
    }
  ]
}